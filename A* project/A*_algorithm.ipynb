{
 "cells": [
  {
   "cell_type": "code",
   "execution_count": 14,
   "id": "2f08cc46",
   "metadata": {},
   "outputs": [],
   "source": [
    "from math import inf, sqrt\n",
    "from heapq import heappop, heappush"
   ]
  },
  {
   "cell_type": "code",
   "execution_count": 15,
   "id": "d057f4cb",
   "metadata": {},
   "outputs": [],
   "source": [
    "# Manhattan Heuristic:\n",
    "#def heuristic(start, target):\n",
    "    \"\"\"The Manhattan \"heuristic\" function takes in two positions (start and end) and calculates the distance between\n",
    "    them. It will be very helpful in the implementation of the A* algorithm. \n",
    "    \n",
    "    INPUT:\n",
    "    - start (class): an output of a class function named \"graph_vertex\" that contain the location \n",
    "    name of the vertex in which the user is starting from in the form of a string and its x and y \n",
    "    position as floats or integers on a grid. \n",
    "    - end (class): an output variable class function \"graph_vertex\" that contain the location name \n",
    "    of the destination vertex in the form of a string and its x and y position on a grid. \n",
    "    \n",
    "    OUTPUT:\n",
    "    - x_distance + y_distance  (float): Simply the sum of the horizontal and vertical distances between two vertices\n",
    "   \n",
    "    \"\"\"\n",
    "\n",
    "  #x_distance = abs(start.position[0] - target.position[0])\n",
    "  #y_distance = abs(start.position[1] - target.position[1])\n",
    "  #return x_distance + y_distance\n"
   ]
  },
  {
   "cell_type": "code",
   "execution_count": 16,
   "id": "2c33e255",
   "metadata": {},
   "outputs": [],
   "source": [
    "# Euclidean Heuristic:\n",
    "def heuristic(start, target):\n",
    "    \"\"\"\n",
    "    The Euclidean \"heuristic\" function takes in two positions (start and end) and calculates the distance between\n",
    "    them. It will be very helpful in the implementation of the A* algorithm. \n",
    "    \n",
    "    INPUT:\n",
    "    - start (class): an output of a class function named \"graph_vertex\" that contain the location \n",
    "    name of the vertex in which the user is starting from in the form of a string and its x and y \n",
    "    position as floats or integers on a grid. \n",
    "    - end (class): an output variable class function \"graph_vertex\" that contain the location name \n",
    "    of the destination vertex in the form of a string and its x and y position on a grid. \n",
    "    \n",
    "    OUTPUT:\n",
    "    - sqrt(x_distance * x_distance + y_distance * y_distance) (float): Simply the Euclidean distance between two \n",
    "    points. \n",
    "    \"\"\"\n",
    "    \n",
    "   x_distance = abs(start.position[0] - target.position[0])\n",
    "   y_distance = abs(start.position[1] - target.position[1])\n",
    "   return sqrt(x_distance * x_distance + y_distance * y_distance)"
   ]
  },
  {
   "cell_type": "code",
   "execution_count": 17,
   "id": "52351509",
   "metadata": {},
   "outputs": [],
   "source": [
    "def a_star(graph, start, target):\n",
    "     \"\"\"\n",
    "    The A* algorithm is an efficent algorithm for finding the most efficient path between two vertices. It implements \n",
    "    following steps:\n",
    "    \n",
    "    1. Assign start vertex a distance of 0 in min heap\n",
    "    2. Assign every other vertex a distance of infinity in min heap\n",
    "    3. Remove the vertex with the minimum distance from the min heap and set it to the current vertex\n",
    "    4. While min heap is not empty:\n",
    "        for each current vertex:\n",
    "            for each neighbor in neighbors:\n",
    "            new distance = (distance to current vertex) + (edge weight of current vertex to neighbor)\n",
    "            if new distance is less than its current distance:\n",
    "                current distance = new distance\n",
    "\n",
    "        return distances\n",
    "\n",
    "    INPUT:\n",
    "    - graph (dict): a dictionary that contains each vertex in the map and the neighboring vertices\n",
    "    along with their distances from the original vertex in the form of a set\n",
    "    - start (class): an output of a class function named \"graph_vertex\" that contain the location \n",
    "    name of the vertex in which the user is starting from in the form of a string and its x and y \n",
    "    position as floats or integers on a grid. \n",
    "    - end (class): an output variable class function \"graph_vertex\" that contain the location name \n",
    "    of the destination vertex in the form of a string and its x and y position on a grid. \n",
    "    \n",
    "    OUTPUT:\n",
    "    - paths_and_distances (list): A list that tells the user the best way to get from the start to end vertices. \n",
    "    \"\"\"\n",
    "  print(\"Starting A* algorithm!\")\n",
    "  count = 0\n",
    "  paths_and_distances = {}\n",
    "  for vertex in graph:\n",
    "    paths_and_distances[vertex] = [inf, [start.name]]\n",
    "  \n",
    "  paths_and_distances[start][0] = 0\n",
    "  vertices_to_explore = [(0, start)]\n",
    "  while vertices_to_explore and paths_and_distances[target][0] == inf:\n",
    "    current_distance, current_vertex = heappop(vertices_to_explore)\n",
    "    for neighbor, edge_weight in graph[current_vertex]:\n",
    "      new_distance = current_distance + edge_weight + heuristic(neighbor, target)\n",
    "      new_path = paths_and_distances[current_vertex][1] + [neighbor.name]\n",
    "      \n",
    "      if new_distance < paths_and_distances[neighbor][0]:\n",
    "        paths_and_distances[neighbor][0] = new_distance\n",
    "        paths_and_distances[neighbor][1] = new_path\n",
    "        heappush(vertices_to_explore, (new_distance, neighbor))\n",
    "        count += 1\n",
    "        print(\"\\nAt \" + vertices_to_explore[0][1].name)\n",
    "        \n",
    "  print(\"Found a path from {0} to {1} in {2} steps: \".format(start.name, target.name, count), paths_and_distances[target][1])\n",
    "  \n",
    "  return paths_and_distances[target][1]"
   ]
  },
  {
   "cell_type": "code",
   "execution_count": 9,
   "id": "dd72d9b9",
   "metadata": {},
   "outputs": [],
   "source": [
    "class graph_vertex:\n",
    "    \"\"\"\n",
    "    \"graph_vertex\" is a class that sets the name and position of a vertex to be used in a 2-D map. \n",
    "    \n",
    "    INPUT:\n",
    "    - name (str): the name of the vertex such as the title of it's location or landmark\n",
    "    - x (float): the horizontal location of the vertex on the grid\n",
    "    - y (float): the vertical location of the vertex on the grid\n",
    "    \n",
    "    OUTPUT:\n",
    "    - __init__ (method): outputs the name (str) or position (tuple) of the vertex\n",
    "    - __lt__ (method): outputs whether one vertex has a smaller distance than another from \n",
    "    the origin as a Boolean. \n",
    "    \"\"\"\n",
    "    \n",
    "  def __init__(self, name, x, y):\n",
    "    self.name = name\n",
    "    self.position = (x, y)\n",
    "  \n",
    "  def __lt__(self, other):\n",
    "    return self.name < other.name\n"
   ]
  },
  {
   "cell_type": "code",
   "execution_count": 10,
   "id": "0cd5e813",
   "metadata": {},
   "outputs": [],
   "source": [
    "thirty_third_and_madison = graph_vertex(\"33rd Street and Madison Avenue\", 33, 4)\n",
    "thirty_third_and_fifth = graph_vertex(\"33rd Street and 5th Avenue\", 33, 5)\n",
    "manhattan_mall = graph_vertex(\"Manhattan Mall\", 33, 6)\n",
    "penn_station = graph_vertex('Penn Station', 33, 7)\n",
    "thirty_fourth_and_madison = graph_vertex(\"34th Street and Madison Avenue\", 34, 4)\n",
    "empire_state_building = graph_vertex('Empire State Building', 34, 5)\n",
    "herald_square = graph_vertex('Herald Square', 34, 6)\n",
    "thirty_fourth_and_seventh = graph_vertex(\"34th Street and 7th Avenue\", 34, 7)\n",
    "thirty_fifth_and_madison = graph_vertex(\"35th Street and Madison Avenue\", 35, 4)\n",
    "cuny_grad_center = graph_vertex(\"CUNY Graduate Center\", 35, 5)\n",
    "thirty_fifth_and_sixth = graph_vertex(\"35th Street and 6th Avenue\", 35, 6)\n",
    "macys = graph_vertex(\"Macy's\", 35, 7)\n",
    "thirty_sixth_and_madison = graph_vertex(\"36th Street and Madison Avenue\", 36, 4)\n",
    "thirty_sixth_and_fifth = graph_vertex(\"36th Street and 5th Avenue\", 36, 5)\n",
    "thirty_sixth_and_sixth = graph_vertex(\"36th Street and 6th Avenue\", 36, 6)\n",
    "thirty_sixth_and_seventh = graph_vertex(\"36th Street and 7th Avenue\", 36, 7)\n",
    "morgan_library = graph_vertex(\"Morgan Library and Museum\", 37, 4)\n",
    "thirty_seventh_and_fifth = graph_vertex(\"37th Street and 5th Avenue\", 37, 5)\n",
    "thirty_seventh_and_sixth = graph_vertex(\"37th Street and 6th Avenue\", 37, 6)\n",
    "thirty_seventh_and_seventh = graph_vertex(\"37th Street and 7th Avenue\", 37, 7)\n",
    "thirty_eighth_and_madison = graph_vertex(\"38th Street and Madison Avenue\", 38, 4)\n",
    "thirty_eighth_and_fifth = graph_vertex(\"38th Street and Fifth Avenue\", 38, 5)\n",
    "thirty_eighth_and_sixth = graph_vertex(\"38th Street and Sixth Avenue\", 38, 6)\n",
    "thirty_eighth_and_seventh = graph_vertex(\"38th Street and Seventh Avenue\", 38, 7)\n",
    "mexican_consulate = graph_vertex(\"Mexican Consulate General\", 39, 4)\n",
    "thirty_ninth_and_fifth = graph_vertex(\"39th Street and Fifth Avenue\", 39, 5)\n",
    "thirty_ninth_and_sixth = graph_vertex(\"39th Street and Sixth Avenue\", 39, 6)\n",
    "thirty_ninth_and_seventh = graph_vertex(\"39th Street and Seventh Avenue\", 39, 7)\n",
    "fortieth_and_madison = graph_vertex(\"40th Street and Madison Avenue\", 40, 4)\n",
    "fortieth_and_fifth = graph_vertex(\"40th Street and Fifth Avenue\", 40, 5)\n",
    "bryant_park_south = graph_vertex(\"Bryant Park South\", 40, 6)\n",
    "times_square_south = graph_vertex(\"Times Square - South\", 40, 7)\n",
    "forty_first_and_madison = graph_vertex(\"41st Street and Madison Avenue\", 41, 4)\n",
    "mid_manhattan_library = graph_vertex(\"Mid-Manhattan Library\", 41, 5)\n",
    "kinokuniya = graph_vertex(\"Kinokuniya\", 41, 6)\n",
    "times_square = graph_vertex(\"Times Square\", 41, 7)\n",
    "grand_central_station = graph_vertex(\"Grand Central Station\", 42, 4)\n",
    "library = graph_vertex(\"New York Public Library\", 42, 5)\n",
    "bryant_park_north = graph_vertex(\"Bryant Park North\", 42, 6)\n",
    "times_square_north = graph_vertex(\"Times Square - North\", 42, 7)"
   ]
  },
  {
   "cell_type": "code",
   "execution_count": 30,
   "id": "a8815def",
   "metadata": {},
   "outputs": [
    {
     "data": {
      "text/plain": [
       "True"
      ]
     },
     "execution_count": 30,
     "metadata": {},
     "output_type": "execute_result"
    }
   ],
   "source": [
    "thirty_third_and_madison = graph_vertex(\"33rd Street and Madison Avenue\", 33, 4)\n",
    "thirty_third_and_madison.__lt__(times_square_north)"
   ]
  },
  {
   "cell_type": "code",
   "execution_count": 31,
   "id": "be38f7ad",
   "metadata": {},
   "outputs": [
    {
     "data": {
      "text/plain": [
       "tuple"
      ]
     },
     "execution_count": 31,
     "metadata": {},
     "output_type": "execute_result"
    }
   ],
   "source": [
    "type(graph_vertex(\"33rd Street and Madison Avenue\", 33, 4).position)"
   ]
  },
  {
   "cell_type": "code",
   "execution_count": 11,
   "id": "e7ab9e62",
   "metadata": {},
   "outputs": [],
   "source": [
    "manhattan_graph = {\n",
    "  thirty_third_and_madison: set([(thirty_fourth_and_madison, 1), (thirty_third_and_fifth, 3)]),\n",
    "  thirty_third_and_fifth: set([(thirty_third_and_madison, 3), (manhattan_mall, 3), (empire_state_building, 1)]),\n",
    "  manhattan_mall: set([(thirty_third_and_fifth, 3), (penn_station, 3), (herald_square, 1)]),\n",
    "  penn_station: set([(manhattan_mall, 3), (thirty_fourth_and_seventh, 1)]),\n",
    "  thirty_fourth_and_madison: set([(thirty_third_and_madison, 1), (empire_state_building, 3), (thirty_fifth_and_madison, 1)]),\n",
    "  empire_state_building: set([(thirty_fourth_and_madison, 3), (herald_square, 3), (thirty_third_and_fifth, 1), (cuny_grad_center, 1)]),\n",
    "  herald_square: set([(empire_state_building, 3), (thirty_fourth_and_seventh, 3), (manhattan_mall, 1), (thirty_fifth_and_sixth, 1)]),\n",
    "  thirty_fourth_and_seventh: set([(herald_square, 3), (macys, 1), (penn_station, 1)]),\n",
    "  thirty_fifth_and_madison: set([(thirty_fourth_and_madison, 1), (thirty_sixth_and_madison, 1), (cuny_grad_center, 3)]),\n",
    "  cuny_grad_center: set([(thirty_fifth_and_madison, 3), (thirty_fifth_and_sixth, 3), (empire_state_building, 1), (thirty_sixth_and_fifth, 1)]),\n",
    "  thirty_fifth_and_sixth: set([(cuny_grad_center, 3), (macys, 3), (herald_square, 1), (thirty_sixth_and_sixth, 1)]),\n",
    "  macys: set([(thirty_fifth_and_sixth, 3), (thirty_fourth_and_seventh, 1), (thirty_sixth_and_seventh, 1)]),\n",
    "  thirty_sixth_and_madison: set([(thirty_sixth_and_fifth, 3), (thirty_fifth_and_madison, 1), (morgan_library, 1)]),\n",
    "  thirty_sixth_and_fifth: set([(thirty_sixth_and_madison, 3), (thirty_sixth_and_sixth, 3), (cuny_grad_center, 1), (thirty_seventh_and_fifth, 1)]),\n",
    "  thirty_sixth_and_sixth: set([(thirty_sixth_and_fifth, 3), (thirty_sixth_and_seventh, 3), (thirty_fifth_and_sixth, 1), (thirty_seventh_and_sixth, 1)]),\n",
    "  thirty_sixth_and_seventh: set([(thirty_sixth_and_sixth, 3), (macys, 1), (thirty_seventh_and_seventh, 1)]),\n",
    "  morgan_library: set([(thirty_seventh_and_fifth, 3), (thirty_sixth_and_madison, 1), (thirty_eighth_and_madison, 1)]),\n",
    "  thirty_seventh_and_fifth: set([(morgan_library, 3), (thirty_seventh_and_sixth, 3), (thirty_sixth_and_fifth, 1), (thirty_eighth_and_fifth, 1)]),\n",
    "  thirty_seventh_and_sixth: set([(thirty_seventh_and_fifth, 3), (thirty_seventh_and_seventh, 3), (thirty_sixth_and_sixth, 1)]),\n",
    "  thirty_seventh_and_seventh: set([(thirty_seventh_and_sixth, 3), (thirty_sixth_and_seventh, 1), (thirty_eighth_and_seventh, 1)]),\n",
    "  thirty_eighth_and_madison: set([(thirty_eighth_and_fifth, 3), (morgan_library, 1), (mexican_consulate, 1)]),\n",
    "  thirty_eighth_and_fifth: set([(thirty_eighth_and_madison, 3), (thirty_eighth_and_sixth, 3), (thirty_seventh_and_fifth, 1), (thirty_ninth_and_fifth, 1)]),\n",
    "  thirty_eighth_and_sixth: set([(thirty_eighth_and_fifth, 3), (thirty_eighth_and_seventh, 3), (thirty_seventh_and_sixth, 1), (thirty_ninth_and_sixth, 1)]),\n",
    "  thirty_eighth_and_seventh: set([(thirty_eighth_and_sixth, 3), (thirty_seventh_and_seventh, 1), (thirty_ninth_and_seventh, 1)]),\n",
    "  mexican_consulate: set([(thirty_ninth_and_fifth, 3), (thirty_eighth_and_madison, 1), (fortieth_and_madison, 1)]),\n",
    "  thirty_ninth_and_fifth: set([(mexican_consulate, 3), (thirty_ninth_and_sixth, 3), (thirty_eighth_and_fifth, 1), (fortieth_and_fifth, 1)]),\n",
    "  thirty_ninth_and_sixth: set([(thirty_ninth_and_fifth, 3), (thirty_ninth_and_seventh, 3), (thirty_eighth_and_sixth, 1), (bryant_park_south, 1)]),\n",
    "  thirty_ninth_and_seventh: set([(thirty_ninth_and_sixth, 3), (thirty_eighth_and_seventh, 1), (times_square_south, 1)]),\n",
    "  fortieth_and_madison: set([(fortieth_and_fifth, 3), (mexican_consulate, 1), (forty_first_and_madison, 1)]),\n",
    "  fortieth_and_fifth: set([(fortieth_and_madison, 3), (bryant_park_south, 3), (thirty_ninth_and_fifth, 1)]),\n",
    "  bryant_park_south: set([(fortieth_and_fifth, 3), (times_square_south, 3), (thirty_ninth_and_sixth, 1), (kinokuniya, 1)]),\n",
    "  times_square_south: set([(bryant_park_south, 3), (times_square, 1), (thirty_ninth_and_seventh, 1)]),\n",
    "  forty_first_and_madison: set([(fortieth_and_madison, 1), (grand_central_station, 1), (mid_manhattan_library, 3)]),\n",
    "  mid_manhattan_library: set([(forty_first_and_madison, 3), (library, 1), (fortieth_and_fifth, 1)]),\n",
    "  kinokuniya: set([(times_square, 3), (bryant_park_north, 1), (bryant_park_south, 1)]),\n",
    "  times_square: set([(kinokuniya, 3), (times_square_north, 1), (times_square_south, 1)]),\n",
    "  grand_central_station: set([(library, 3), (forty_first_and_madison, 1)]),\n",
    "  library: set([(mid_manhattan_library, 1), (grand_central_station, 3), (bryant_park_north, 3)]),\n",
    "  bryant_park_north: set([(library, 3), (times_square_north, 3), (bryant_park_south, 1)]),\n",
    "  times_square_north: set([(times_square, 1), (bryant_park_north, 3)])\n",
    "}"
   ]
  },
  {
   "cell_type": "code",
   "execution_count": 12,
   "id": "9a39ed49",
   "metadata": {},
   "outputs": [],
   "source": [
    "delhi = graph_vertex(\"New Delhi\", 28.6448, 77.216721)\n",
    "jaipur = graph_vertex(\"Jaipur\", 26.92207, 75.778885)\n",
    "varanasi = graph_vertex(\"Varanasi\", 25.321684, 82.987289)\n",
    "mumbai = graph_vertex(\"Mumbai\", 19.07283, 72.88261)\n",
    "chennai = graph_vertex(\"Chennai\", 13.067439, 80.237617)\n",
    "hyderabad = graph_vertex(\"Hyderabad\", 17.387140, 78.491684)\n",
    "kolkata = graph_vertex(\"Kolkata\", 22.572645, 88.363892)\n",
    "bengaluru = graph_vertex(\"Bengaluru\", 12.972442, 77.580643)"
   ]
  },
  {
   "cell_type": "code",
   "execution_count": 13,
   "id": "4f3b7ea2",
   "metadata": {},
   "outputs": [],
   "source": [
    "euclidean_graph = {\n",
    "  delhi: set([(jaipur, 2.243918), (varanasi, 6.65902), (mumbai, 10.507479), (chennai, 15.867576), (hyderabad, 11.329626), (kolkata, 12.693718), (bengaluru, 15.676582)]),\n",
    "  jaipur: set([(mumbai, 8.366539), (delhi, 2.243918)]),\n",
    "  varanasi: set([(delhi, 6.65902), (mumbai, 11.88077)]),\n",
    "  mumbai: set([(delhi, 10.507479), (jaipur, 8.366539), (varanasi, 11.88077), (hyderabad, 5.856898), (kolkata, 15.87195), (bengaluru, 7.699756)]),\n",
    "  chennai: set([(delhi, 15.867576), (kolkata, 12.50541), (hyderabad, 4.659195), (bengaluru, 2.658671)]),\n",
    "  hyderabad: set([(delhi, 11.329626), (mumbai, 5.856898), (chennai, 4.659195), (bengaluru, 4.507721), (kolkata, 11.151231)]),\n",
    "  kolkata: set([(delhi, 12.693718), (mumbai, 15.87195), (chennai, 12.50541), (hyderabad, 11.151231), (bengaluru, 14.437532)]),\n",
    "  bengaluru: set([(delhi, 15.676582), (mumbai, 7.699756), (chennai, 2.658671), (hyderabad, 4.507721), (kolkata, 14.437532)])\n",
    "}"
   ]
  },
  {
   "cell_type": "code",
   "execution_count": 26,
   "id": "b7912f3a",
   "metadata": {},
   "outputs": [
    {
     "name": "stdout",
     "output_type": "stream",
     "text": [
      "Starting A* algorithm!\n",
      "\n",
      "At 34th Street and 7th Avenue\n",
      "\n",
      "At 34th Street and 7th Avenue\n",
      "\n",
      "At Manhattan Mall\n",
      "\n",
      "At Manhattan Mall\n",
      "\n",
      "At Macy's\n",
      "\n",
      "At Herald Square\n",
      "\n",
      "At Herald Square\n",
      "\n",
      "At 33rd Street and 5th Avenue\n",
      "\n",
      "At 36th Street and 7th Avenue\n",
      "\n",
      "At 35th Street and 6th Avenue\n",
      "\n",
      "At 35th Street and 6th Avenue\n",
      "\n",
      "At Empire State Building\n",
      "\n",
      "At 33rd Street and Madison Avenue\n",
      "\n",
      "At 36th Street and 6th Avenue\n",
      "\n",
      "At 36th Street and 6th Avenue\n",
      "\n",
      "At CUNY Graduate Center\n",
      "\n",
      "At 34th Street and Madison Avenue\n",
      "\n",
      "At 37th Street and 6th Avenue\n",
      "\n",
      "At 37th Street and 6th Avenue\n",
      "\n",
      "At 36th Street and 5th Avenue\n",
      "\n",
      "At 35th Street and Madison Avenue\n",
      "\n",
      "At 38th Street and Sixth Avenue\n",
      "\n",
      "At 38th Street and Sixth Avenue\n",
      "\n",
      "At 37th Street and 5th Avenue\n",
      "\n",
      "At 36th Street and Madison Avenue\n",
      "\n",
      "At 39th Street and Sixth Avenue\n",
      "\n",
      "At 39th Street and Sixth Avenue\n",
      "\n",
      "At 38th Street and Fifth Avenue\n",
      "\n",
      "At Times Square\n",
      "\n",
      "At Morgan Library and Museum\n",
      "\n",
      "At Morgan Library and Museum\n",
      "\n",
      "At 39th Street and Fifth Avenue\n",
      "\n",
      "At Times Square - North\n",
      "\n",
      "At 38th Street and Madison Avenue\n",
      "\n",
      "At Bryant Park North\n",
      "\n",
      "At Mexican Consulate General\n",
      "\n",
      "At New York Public Library\n",
      "\n",
      "At 41st Street and Madison Avenue\n",
      "\n",
      "At 41st Street and Madison Avenue\n",
      "Found a path from Penn Station to Grand Central Station in 39 steps:  ['Penn Station', '34th Street and 7th Avenue', \"Macy's\", '36th Street and 7th Avenue', '37th Street and 7th Avenue', '38th Street and Seventh Avenue', '39th Street and Seventh Avenue', 'Times Square - South', 'Times Square', 'Times Square - North', 'Bryant Park North', 'New York Public Library', 'Grand Central Station']\n"
     ]
    },
    {
     "data": {
      "text/plain": [
       "['Penn Station',\n",
       " '34th Street and 7th Avenue',\n",
       " \"Macy's\",\n",
       " '36th Street and 7th Avenue',\n",
       " '37th Street and 7th Avenue',\n",
       " '38th Street and Seventh Avenue',\n",
       " '39th Street and Seventh Avenue',\n",
       " 'Times Square - South',\n",
       " 'Times Square',\n",
       " 'Times Square - North',\n",
       " 'Bryant Park North',\n",
       " 'New York Public Library',\n",
       " 'Grand Central Station']"
      ]
     },
     "execution_count": 26,
     "metadata": {},
     "output_type": "execute_result"
    }
   ],
   "source": [
    "a_star(manhattan_graph, penn_station, grand_central_station)"
   ]
  },
  {
   "cell_type": "code",
   "execution_count": 22,
   "id": "383ddb97",
   "metadata": {},
   "outputs": [
    {
     "name": "stdout",
     "output_type": "stream",
     "text": [
      "Starting A* algorithm!\n",
      "\n",
      "At New Delhi\n",
      "\n",
      "At New Delhi\n",
      "\n",
      "At Mumbai\n",
      "\n",
      "At Mumbai\n",
      "\n",
      "At Mumbai\n",
      "\n",
      "At Mumbai\n",
      "\n",
      "At Mumbai\n",
      "Found a path from Jaipur to Chennai in 7 steps:  ['Jaipur', 'New Delhi', 'Chennai']\n"
     ]
    },
    {
     "data": {
      "text/plain": [
       "['Jaipur', 'New Delhi', 'Chennai']"
      ]
     },
     "execution_count": 22,
     "metadata": {},
     "output_type": "execute_result"
    }
   ],
   "source": [
    "a_star(euclidean_graph, jaipur, chennai)"
   ]
  },
  {
   "cell_type": "code",
   "execution_count": null,
   "id": "f9707da7",
   "metadata": {},
   "outputs": [],
   "source": []
  }
 ],
 "metadata": {
  "kernelspec": {
   "display_name": "Python 3 (ipykernel)",
   "language": "python",
   "name": "python3"
  },
  "language_info": {
   "codemirror_mode": {
    "name": "ipython",
    "version": 3
   },
   "file_extension": ".py",
   "mimetype": "text/x-python",
   "name": "python",
   "nbconvert_exporter": "python",
   "pygments_lexer": "ipython3",
   "version": "3.9.7"
  }
 },
 "nbformat": 4,
 "nbformat_minor": 5
}
